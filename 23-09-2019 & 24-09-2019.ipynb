{
 "cells": [
  {
   "cell_type": "markdown",
   "metadata": {},
   "source": [
    "## File Encryption  and Decryption\n",
    "\n",
    "### Data Encryption\n",
    "\n",
    "#### Encryption is a security method in which information is encoded in such a way that only authorized user can read it. It uses encryption algorithm to generate ciphertext that can only be read if decrypted.\n",
    "\n",
    "### Data Decryption \n",
    "\n",
    "#### Decryption is the process of taking encoded or encrypted text and converting it back into text that you or the computer can read and understand.\n",
    "\n",
    "### Types\n",
    "#### Symmetric (Private key): It uses a single key that will be shared among the people who need to receive the message\n",
    "##### Asymmetric (Public key):  Asymmetrical encryption uses a pair of public key and a private key to encrypt and decrypt messages\n",
    "\n",
    "\n"
   ]
  },
  {
   "cell_type": "code",
   "execution_count": 3,
   "metadata": {},
   "outputs": [
    {
     "name": "stdout",
     "output_type": "stream",
     "text": [
      "Enter the messagezxcvbnm\n",
      "fdibhts"
     ]
    }
   ],
   "source": [
    "# Encrypted Messagwe\n",
    "\n",
    "msg=input(\"Enter the message\")\n",
    "key_file='abcdefghijklmnopqrstuvwxyz'\n",
    "key=6\n",
    "for char in msg:\n",
    "    pos=key_file.find(char)\n",
    "    new_pos=(pos+key)%26\n",
    "    print(key_file[new_pos],end=\"\")"
   ]
  },
  {
   "cell_type": "code",
   "execution_count": 4,
   "metadata": {},
   "outputs": [
    {
     "name": "stdout",
     "output_type": "stream",
     "text": [
      "Enter the messagezxcvbn\n",
      "fdhbgs\n"
     ]
    }
   ],
   "source": [
    "msg=input(\"Enter the message\")\n",
    "key=5\n",
    "enc=\"\"\n",
    "for char in msg:\n",
    "    k=ord(char)+key\n",
    "    if k>=97 and k<=122:\n",
    "        enc+=chr(k)\n",
    "    else:\n",
    "        h=97+(k-123)\n",
    "        enc+=chr(h)\n",
    "print(enc)"
   ]
  },
  {
   "cell_type": "code",
   "execution_count": 5,
   "metadata": {},
   "outputs": [],
   "source": [
    "keyfile=\"key.txt\"\n",
    "def createkeyFile(keyfile):\n",
    "    with open(keyfile,\"w\") as f:\n",
    "        for i in range(10):\n",
    "            if i<6:\n",
    "                f.write(str(i)+\" \"+str(i+4)+\"\\n\")\n",
    "            else:\n",
    "                f.write(str(i)+\" \"+str(i-6)+\"\\n\")\n",
    "\n",
    "createkeyFile(keyfile)"
   ]
  },
  {
   "cell_type": "code",
   "execution_count": 7,
   "metadata": {},
   "outputs": [],
   "source": [
    "keyfile=\"key.txt\"\n",
    "def Dictonary_Form(keyfile):\n",
    "    dict1={}\n",
    "    with open(keyfile,'r') as k:\n",
    "        for line in k:\n",
    "            h=line.split()\n",
    "            dict1[h[0]]=h[1]\n",
    "    return dict1\n",
    " \n",
    "def Enctrption_data(datafile,keyfile):\n",
    "    key=Dictonary_Form(keyfile)\n",
    "    with open(datafile,'r') as d:\n",
    "        h=d.read().split(\"\\n\")\n",
    "        \n",
    "    with open('encrypted_marks.txt','w') as en:\n",
    "        for marks in h:\n",
    "            encr=\"\"\n",
    "            for i in marks:\n",
    "                encr+=key[i]\n",
    "            en.write(encr+\"\\n\")\n",
    "    return\n",
    "        \n",
    "datafile=\"marks.txt\"\n",
    "Enctrption_data(datafile,keyfile)"
   ]
  },
  {
   "cell_type": "code",
   "execution_count": 8,
   "metadata": {},
   "outputs": [],
   "source": [
    "keyfile=\"key.txt\"\n",
    "def Decrypted_marks(enctrypted_file,keyfile):\n",
    "    key=Dictonary_Form(keyfile)\n",
    "    new_dict={}\n",
    "    for key,value in key.items():\n",
    "        new_dict[value]=key\n",
    "    with open(enctrypted_file,\"r\") as enc:\n",
    "        y=enc.read().split(\"\\n\")\n",
    "        \n",
    "    with open(\"decrypted_marks.txt\",'w') as dec:\n",
    "        for t in y:\n",
    "            u=\"\"\n",
    "            for j in t:\n",
    "                u+=new_dict[j]\n",
    "            dec.write(u+\"\\n\")\n",
    "    return\n",
    "enctrypted_file='encrypted_marks.txt'\n",
    "Decrypted_marks(enctrypted_file,keyfile)"
   ]
  },
  {
   "cell_type": "markdown",
   "metadata": {},
   "source": [
    "# Tasks\n",
    "\n",
    "# Write a function to encrypt your marks file takes marks by using write\n",
    "# Write a function to decrypt encrypted marks file"
   ]
  },
  {
   "cell_type": "markdown",
   "metadata": {},
   "source": [
    "## All of complete tasks"
   ]
  },
  {
   "cell_type": "code",
   "execution_count": 9,
   "metadata": {},
   "outputs": [
    {
     "name": "stdout",
     "output_type": "stream",
     "text": [
      "Enter the messagezxAEGxcvbn\n",
      "jhJNPhlfkw\n"
     ]
    }
   ],
   "source": [
    "msg=input(\"Enter the message\")\n",
    "key=9\n",
    "new_ms=\"\"\n",
    "for char in msg:\n",
    "    if ord(char)>=65 and ord(char)<=90:\n",
    "        k=ord(char)+key\n",
    "        if k>90:\n",
    "            h=65+(ord(char)-90)\n",
    "            new_ms+=chr(h)\n",
    "        else:\n",
    "            new_ms+=chr(k)\n",
    "    elif ord(char)>=97 and ord(char)<=122:\n",
    "        p=ord(char)+key\n",
    "        if p>122:\n",
    "            b=97+(p-122)\n",
    "            new_ms+=chr(b)\n",
    "        else:\n",
    "            new_ms+=chr(p)\n",
    "print(new_ms)"
   ]
  },
  {
   "cell_type": "code",
   "execution_count": null,
   "metadata": {},
   "outputs": [],
   "source": []
  }
 ],
 "metadata": {
  "kernelspec": {
   "display_name": "Python 3",
   "language": "python",
   "name": "python3"
  },
  "language_info": {
   "codemirror_mode": {
    "name": "ipython",
    "version": 3
   },
   "file_extension": ".py",
   "mimetype": "text/x-python",
   "name": "python",
   "nbconvert_exporter": "python",
   "pygments_lexer": "ipython3",
   "version": "3.7.3"
  }
 },
 "nbformat": 4,
 "nbformat_minor": 2
}
